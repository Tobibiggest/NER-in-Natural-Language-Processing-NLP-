{
 "cells": [
  {
   "cell_type": "markdown",
   "id": "a5503d81-19d1-48da-a23e-bb3ae304ee72",
   "metadata": {},
   "source": [
    "## Natural Language Processing - Oluwadamilare Tobiloba"
   ]
  },
  {
   "cell_type": "code",
   "execution_count": 5,
   "id": "2b89396c-8803-41d5-8feb-9959c63bceac",
   "metadata": {},
   "outputs": [
    {
     "data": {
      "text/plain": [
       "\"Mark Zuckerberg, the co-founder and CEO of Facebook, has become a household name over the years. His journey from a Harvard dorm room to leading one of the world's most influential tech companies is a story of innovation, resilience, and a relentless pursuit of connecting people. In 2004, Mark Zuckerberg, along with his college roommates Eduardo Saverin, Andrew McCollum, Dustin Moskovitz, and Chris Hughes, launched The Facebook from their dormitory at Harvard University. Originally designed as a social networking site for college students, it quickly expanded to other universities and eventually to the general public. The platform's rapid growth caught the attention of investors, and in 2005, Facebook received its first major funding from Accel Partners, marking the beginning of its transformation into a global phenomenon.\""
      ]
     },
     "execution_count": 5,
     "metadata": {},
     "output_type": "execute_result"
    }
   ],
   "source": [
    "text= \"Mark Zuckerberg, the co-founder and CEO of Facebook, has become a household name over the years. His journey from a Harvard dorm room to leading one of the world's most influential tech companies is a story of innovation, resilience, and a relentless pursuit of connecting people. In 2004, Mark Zuckerberg, along with his college roommates Eduardo Saverin, Andrew McCollum, Dustin Moskovitz, and Chris Hughes, launched The Facebook from their dormitory at Harvard University. Originally designed as a social networking site for college students, it quickly expanded to other universities and eventually to the general public. The platform's rapid growth caught the attention of investors, and in 2005, Facebook received its first major funding from Accel Partners, marking the beginning of its transformation into a global phenomenon.\"\n",
    "text"
   ]
  },
  {
   "cell_type": "markdown",
   "id": "2aad3322-ca7a-4dce-8b27-5f5014bb8b39",
   "metadata": {},
   "source": [
    "## SEGMENTATION"
   ]
  },
  {
   "cell_type": "code",
   "execution_count": 2,
   "id": "baabe0fe-9cc4-4b39-9dcd-dade44a5fb5b",
   "metadata": {},
   "outputs": [
    {
     "name": "stderr",
     "output_type": "stream",
     "text": [
      "[nltk_data] Downloading package punkt to\n",
      "[nltk_data]     C:\\Users\\tbigg\\AppData\\Roaming\\nltk_data...\n",
      "[nltk_data]   Unzipping tokenizers\\punkt.zip.\n"
     ]
    }
   ],
   "source": [
    "# import necessary libaries\n",
    "import nltk\n",
    "nltk.download('punkt') # Download needed packages\n",
    "from nltk.tokenize import sent_tokenize"
   ]
  },
  {
   "cell_type": "code",
   "execution_count": 6,
   "id": "05b9e8d3-2f85-46e6-ae5d-3b58f12ce804",
   "metadata": {},
   "outputs": [
    {
     "data": {
      "text/plain": [
       "['Mark Zuckerberg, the co-founder and CEO of Facebook, has become a household name over the years.',\n",
       " \"His journey from a Harvard dorm room to leading one of the world's most influential tech companies is a story of innovation, resilience, and a relentless pursuit of connecting people.\",\n",
       " 'In 2004, Mark Zuckerberg, along with his college roommates Eduardo Saverin, Andrew McCollum, Dustin Moskovitz, and Chris Hughes, launched The Facebook from their dormitory at Harvard University.',\n",
       " 'Originally designed as a social networking site for college students, it quickly expanded to other universities and eventually to the general public.',\n",
       " \"The platform's rapid growth caught the attention of investors, and in 2005, Facebook received its first major funding from Accel Partners, marking the beginning of its transformation into a global phenomenon.\"]"
      ]
     },
     "execution_count": 6,
     "metadata": {},
     "output_type": "execute_result"
    }
   ],
   "source": [
    "# Split text into sentences\n",
    "sentences = sent_tokenize(text)\n",
    "sentences\n"
   ]
  },
  {
   "cell_type": "code",
   "execution_count": 7,
   "id": "c53bc854-a601-4e1e-9765-300cd1f7fb41",
   "metadata": {},
   "outputs": [
    {
     "data": {
      "text/plain": [
       "'In 2004, Mark Zuckerberg, along with his college roommates Eduardo Saverin, Andrew McCollum, Dustin Moskovitz, and Chris Hughes, launched The Facebook from their dormitory at Harvard University.'"
      ]
     },
     "execution_count": 7,
     "metadata": {},
     "output_type": "execute_result"
    }
   ],
   "source": [
    "# Taking a look at the 2nd sentence\n",
    "sentences[2]"
   ]
  },
  {
   "cell_type": "code",
   "execution_count": 17,
   "id": "c27f9c3f-fd2a-4e6d-b313-07b43ca5e7a9",
   "metadata": {},
   "outputs": [
    {
     "data": {
      "text/plain": [
       "'Mark Zuckerberg  the co founder and CEO of Facebook  has become a household name over the years  His journey from a Harvard dorm room to leading one of the world s most influential tech companies is a story of innovation  resilience  and a relentless pursuit of connecting people  In 2004  Mark Zuckerberg  along with his college roommates Eduardo Saverin  Andrew McCollum  Dustin Moskovitz  and Chris Hughes  launched The Facebook from their dormitory at Harvard University  Originally designed as a social networking site for college students  it quickly expanded to other universities and eventually to the general public  The platform s rapid growth caught the attention of investors  and in 2005  Facebook received its first major funding from Accel Partners  marking the beginning of its transformation into a global phenomenon '"
      ]
     },
     "execution_count": 17,
     "metadata": {},
     "output_type": "execute_result"
    }
   ],
   "source": [
    "# Punctuation removal\n",
    "import re\n",
    "# Join the list into a single string\n",
    "text = ' '.join(sentences)\n",
    "\n",
    "# Remove punctuation characters\n",
    "text = re.sub(r\"[^a-zA-Z0-9]\", \" \", text) \n",
    "text"
   ]
  },
  {
   "cell_type": "markdown",
   "id": "56f59ad4-fe24-4b2d-a06c-4e1281e4d4f7",
   "metadata": {},
   "source": [
    "## TOKENIZATION"
   ]
  },
  {
   "cell_type": "code",
   "execution_count": 9,
   "id": "7b2a3796-83c6-4700-8ddc-01189a72c745",
   "metadata": {},
   "outputs": [],
   "source": [
    "from nltk.tokenize import word_tokenize"
   ]
  },
  {
   "cell_type": "code",
   "execution_count": 18,
   "id": "a8639fe5-b0ee-4a6b-b9e5-d7713a837cd8",
   "metadata": {},
   "outputs": [
    {
     "name": "stdout",
     "output_type": "stream",
     "text": [
      "['Mark', 'Zuckerberg', 'the', 'co', 'founder', 'and', 'CEO', 'of', 'Facebook', 'has', 'become', 'a', 'household', 'name', 'over', 'the', 'years', 'His', 'journey', 'from', 'a', 'Harvard', 'dorm', 'room', 'to', 'leading', 'one', 'of', 'the', 'world', 's', 'most', 'influential', 'tech', 'companies', 'is', 'a', 'story', 'of', 'innovation', 'resilience', 'and', 'a', 'relentless', 'pursuit', 'of', 'connecting', 'people', 'In', '2004', 'Mark', 'Zuckerberg', 'along', 'with', 'his', 'college', 'roommates', 'Eduardo', 'Saverin', 'Andrew', 'McCollum', 'Dustin', 'Moskovitz', 'and', 'Chris', 'Hughes', 'launched', 'The', 'Facebook', 'from', 'their', 'dormitory', 'at', 'Harvard', 'University', 'Originally', 'designed', 'as', 'a', 'social', 'networking', 'site', 'for', 'college', 'students', 'it', 'quickly', 'expanded', 'to', 'other', 'universities', 'and', 'eventually', 'to', 'the', 'general', 'public', 'The', 'platform', 's', 'rapid', 'growth', 'caught', 'the', 'attention', 'of', 'investors', 'and', 'in', '2005', 'Facebook', 'received', 'its', 'first', 'major', 'funding', 'from', 'Accel', 'Partners', 'marking', 'the', 'beginning', 'of', 'its', 'transformation', 'into', 'a', 'global', 'phenomenon']\n"
     ]
    }
   ],
   "source": [
    "words = word_tokenize(text)\n",
    "print(words)"
   ]
  },
  {
   "cell_type": "markdown",
   "id": "6e466d39-487f-44f2-b0a0-79eca43a23d4",
   "metadata": {},
   "source": [
    "## REMOVAL OF STOP-WORDS"
   ]
  },
  {
   "cell_type": "code",
   "execution_count": 19,
   "id": "8589b951-0532-400e-8664-7e34fcb95930",
   "metadata": {},
   "outputs": [
    {
     "name": "stderr",
     "output_type": "stream",
     "text": [
      "[nltk_data] Downloading package stopwords to\n",
      "[nltk_data]     C:\\Users\\tbigg\\AppData\\Roaming\\nltk_data...\n",
      "[nltk_data]   Unzipping corpora\\stopwords.zip.\n"
     ]
    }
   ],
   "source": [
    "nltk.download('stopwords')\n",
    "from nltk.corpus import stopwords"
   ]
  },
  {
   "cell_type": "code",
   "execution_count": 20,
   "id": "f1c76558-1889-42bc-b5ad-65e1fcc15f76",
   "metadata": {},
   "outputs": [
    {
     "name": "stdout",
     "output_type": "stream",
     "text": [
      "['Mark', 'Zuckerberg', 'co', 'founder', 'CEO', 'Facebook', 'become', 'household', 'name', 'years', 'His', 'journey', 'Harvard', 'dorm', 'room', 'leading', 'one', 'world', 'influential', 'tech', 'companies', 'story', 'innovation', 'resilience', 'relentless', 'pursuit', 'connecting', 'people', 'In', '2004', 'Mark', 'Zuckerberg', 'along', 'college', 'roommates', 'Eduardo', 'Saverin', 'Andrew', 'McCollum', 'Dustin', 'Moskovitz', 'Chris', 'Hughes', 'launched', 'The', 'Facebook', 'dormitory', 'Harvard', 'University', 'Originally', 'designed', 'social', 'networking', 'site', 'college', 'students', 'quickly', 'expanded', 'universities', 'eventually', 'general', 'public', 'The', 'platform', 'rapid', 'growth', 'caught', 'attention', 'investors', '2005', 'Facebook', 'received', 'first', 'major', 'funding', 'Accel', 'Partners', 'marking', 'beginning', 'transformation', 'global', 'phenomenon']\n"
     ]
    }
   ],
   "source": [
    "# Remove stop words\n",
    "words = [w for w in words if w not in stopwords.words(\"english\")] #Specify the language used in the document, mine is english, Hence the (\"english\")\n",
    "print(words)"
   ]
  },
  {
   "cell_type": "code",
   "execution_count": 22,
   "id": "68a2813b-7a32-4152-9d64-c3bd6b631d27",
   "metadata": {},
   "outputs": [
    {
     "name": "stdout",
     "output_type": "stream",
     "text": [
      "['i', 'me', 'my', 'myself', 'we', 'our', 'ours', 'ourselves', 'you', \"you're\", \"you've\", \"you'll\", \"you'd\", 'your', 'yours', 'yourself', 'yourselves', 'he', 'him', 'his', 'himself', 'she', \"she's\", 'her', 'hers', 'herself', 'it', \"it's\", 'its', 'itself', 'they', 'them', 'their', 'theirs', 'themselves', 'what', 'which', 'who', 'whom', 'this', 'that', \"that'll\", 'these', 'those', 'am', 'is', 'are', 'was', 'were', 'be', 'been', 'being', 'have', 'has', 'had', 'having', 'do', 'does', 'did', 'doing', 'a', 'an', 'the', 'and', 'but', 'if', 'or', 'because', 'as', 'until', 'while', 'of', 'at', 'by', 'for', 'with', 'about', 'against', 'between', 'into', 'through', 'during', 'before', 'after', 'above', 'below', 'to', 'from', 'up', 'down', 'in', 'out', 'on', 'off', 'over', 'under', 'again', 'further', 'then', 'once', 'here', 'there', 'when', 'where', 'why', 'how', 'all', 'any', 'both', 'each', 'few', 'more', 'most', 'other', 'some', 'such', 'no', 'nor', 'not', 'only', 'own', 'same', 'so', 'than', 'too', 'very', 's', 't', 'can', 'will', 'just', 'don', \"don't\", 'should', \"should've\", 'now', 'd', 'll', 'm', 'o', 're', 've', 'y', 'ain', 'aren', \"aren't\", 'couldn', \"couldn't\", 'didn', \"didn't\", 'doesn', \"doesn't\", 'hadn', \"hadn't\", 'hasn', \"hasn't\", 'haven', \"haven't\", 'isn', \"isn't\", 'ma', 'mightn', \"mightn't\", 'mustn', \"mustn't\", 'needn', \"needn't\", 'shan', \"shan't\", 'shouldn', \"shouldn't\", 'wasn', \"wasn't\", 'weren', \"weren't\", 'won', \"won't\", 'wouldn', \"wouldn't\"]\n"
     ]
    }
   ],
   "source": [
    "# have a look at the stop words in nltk's corpus in any language of choice e.g english, spanish, french, etc.\n",
    "print(stopwords.words(\"english\"))"
   ]
  },
  {
   "cell_type": "markdown",
   "id": "4b081925-9c68-4170-abe4-6275957eeb68",
   "metadata": {},
   "source": [
    "## STEEMING AND LEMMATIZATION"
   ]
  },
  {
   "cell_type": "code",
   "execution_count": 23,
   "id": "1ef8c197-224d-467a-9af7-26071e076e71",
   "metadata": {},
   "outputs": [
    {
     "name": "stderr",
     "output_type": "stream",
     "text": [
      "[nltk_data] Downloading package wordnet to\n",
      "[nltk_data]     C:\\Users\\tbigg\\AppData\\Roaming\\nltk_data...\n",
      "[nltk_data] Downloading package omw-1.4 to\n",
      "[nltk_data]     C:\\Users\\tbigg\\AppData\\Roaming\\nltk_data...\n"
     ]
    },
    {
     "data": {
      "text/plain": [
       "True"
      ]
     },
     "execution_count": 23,
     "metadata": {},
     "output_type": "execute_result"
    }
   ],
   "source": [
    "nltk.download('wordnet') # download for lemmatization\n",
    "nltk.download('omw-1.4')"
   ]
  },
  {
   "cell_type": "code",
   "execution_count": 24,
   "id": "8a34823c-0fc1-4f11-9788-d214935556cf",
   "metadata": {},
   "outputs": [
    {
     "name": "stdout",
     "output_type": "stream",
     "text": [
      "['mark', 'zuckerberg', 'co', 'founder', 'ceo', 'facebook', 'becom', 'household', 'name', 'year', 'hi', 'journey', 'harvard', 'dorm', 'room', 'lead', 'one', 'world', 'influenti', 'tech', 'compani', 'stori', 'innov', 'resili', 'relentless', 'pursuit', 'connect', 'peopl', 'in', '2004', 'mark', 'zuckerberg', 'along', 'colleg', 'roommat', 'eduardo', 'saverin', 'andrew', 'mccollum', 'dustin', 'moskovitz', 'chri', 'hugh', 'launch', 'the', 'facebook', 'dormitori', 'harvard', 'univers', 'origin', 'design', 'social', 'network', 'site', 'colleg', 'student', 'quickli', 'expand', 'univers', 'eventu', 'gener', 'public', 'the', 'platform', 'rapid', 'growth', 'caught', 'attent', 'investor', '2005', 'facebook', 'receiv', 'first', 'major', 'fund', 'accel', 'partner', 'mark', 'begin', 'transform', 'global', 'phenomenon']\n"
     ]
    }
   ],
   "source": [
    "\n",
    "# Stemming\n",
    "from nltk.stem.porter import PorterStemmer\n",
    "\n",
    "# Reduce words to their stems\n",
    "stemmed = [PorterStemmer().stem(w) for w in words]\n",
    "print(stemmed)"
   ]
  },
  {
   "cell_type": "code",
   "execution_count": 25,
   "id": "28536bf4-6e2c-46fc-9d48-deaaf1d38f96",
   "metadata": {},
   "outputs": [
    {
     "name": "stdout",
     "output_type": "stream",
     "text": [
      "['Mark', 'Zuckerberg', 'co', 'founder', 'CEO', 'Facebook', 'become', 'household', 'name', 'year', 'His', 'journey', 'Harvard', 'dorm', 'room', 'leading', 'one', 'world', 'influential', 'tech', 'company', 'story', 'innovation', 'resilience', 'relentless', 'pursuit', 'connecting', 'people', 'In', '2004', 'Mark', 'Zuckerberg', 'along', 'college', 'roommate', 'Eduardo', 'Saverin', 'Andrew', 'McCollum', 'Dustin', 'Moskovitz', 'Chris', 'Hughes', 'launched', 'The', 'Facebook', 'dormitory', 'Harvard', 'University', 'Originally', 'designed', 'social', 'networking', 'site', 'college', 'student', 'quickly', 'expanded', 'university', 'eventually', 'general', 'public', 'The', 'platform', 'rapid', 'growth', 'caught', 'attention', 'investor', '2005', 'Facebook', 'received', 'first', 'major', 'funding', 'Accel', 'Partners', 'marking', 'beginning', 'transformation', 'global', 'phenomenon']\n"
     ]
    }
   ],
   "source": [
    "# Lemmatize\n",
    "from nltk.stem.wordnet import WordNetLemmatizer\n",
    "\n",
    "# Reduce words to their root form\n",
    "lemmatized = [WordNetLemmatizer().lemmatize(w) for w in words]\n",
    "print(lemmatized)"
   ]
  },
  {
   "cell_type": "code",
   "execution_count": 26,
   "id": "086eac59-5d8b-4c58-ab7d-8f48c2b58584",
   "metadata": {},
   "outputs": [
    {
     "name": "stdout",
     "output_type": "stream",
     "text": [
      "Stemming output: ['wait', 'wait', 'studi', 'studi', 'comput']\n",
      "Lemmatization output: ['wait', 'waiting', 'study', 'studying', 'computer']\n"
     ]
    }
   ],
   "source": [
    "# Another example showing the diffrence between stemming and lemmatization\n",
    "words2 = ['wait', 'waiting' , 'studies', 'studying', 'computers']\n",
    "\n",
    "# Stemming\n",
    "# Reduce words to their stems\n",
    "stemmed = [PorterStemmer().stem(w) for w in words2]\n",
    "print(\"Stemming output: {}\".format(stemmed))\n",
    "\n",
    "# Lemmatization\n",
    "# Reduce words to their root form\n",
    "lemmatized = [WordNetLemmatizer().lemmatize(w) for w in words2]\n",
    "print(\"Lemmatization output: {}\".format(lemmatized))"
   ]
  },
  {
   "cell_type": "markdown",
   "id": "86dd82c1-b85b-4b32-a515-e6088333118d",
   "metadata": {},
   "source": [
    "## PART OF SPEECH TAGGING"
   ]
  },
  {
   "cell_type": "code",
   "execution_count": 27,
   "id": "3050b4b4-46cb-4943-b0e1-f48e0e11c992",
   "metadata": {},
   "outputs": [
    {
     "name": "stderr",
     "output_type": "stream",
     "text": [
      "[nltk_data] Downloading package averaged_perceptron_tagger to\n",
      "[nltk_data]     C:\\Users\\tbigg\\AppData\\Roaming\\nltk_data...\n",
      "[nltk_data]   Unzipping taggers\\averaged_perceptron_tagger.zip.\n",
      "[nltk_data] Downloading package maxent_ne_chunker to\n",
      "[nltk_data]     C:\\Users\\tbigg\\AppData\\Roaming\\nltk_data...\n",
      "[nltk_data]   Unzipping chunkers\\maxent_ne_chunker.zip.\n"
     ]
    },
    {
     "data": {
      "text/plain": [
       "True"
      ]
     },
     "execution_count": 27,
     "metadata": {},
     "output_type": "execute_result"
    }
   ],
   "source": [
    "nltk.download('averaged_perceptron_tagger')\n",
    "nltk.download('maxent_ne_chunker')"
   ]
  },
  {
   "cell_type": "code",
   "execution_count": 28,
   "id": "ed41f1ac-aef8-4d6e-906d-86b27f803771",
   "metadata": {},
   "outputs": [],
   "source": [
    "from nltk import pos_tag"
   ]
  },
  {
   "cell_type": "code",
   "execution_count": 29,
   "id": "58154d7d-6c20-45d7-b178-473144f21a44",
   "metadata": {},
   "outputs": [
    {
     "data": {
      "text/plain": [
       "[('Mark', 'NNP'),\n",
       " ('Zuckerberg', 'NNP'),\n",
       " ('co', 'NN'),\n",
       " ('founder', 'NN'),\n",
       " ('CEO', 'NNP'),\n",
       " ('Facebook', 'NNP'),\n",
       " ('become', 'VBP'),\n",
       " ('household', 'JJ'),\n",
       " ('name', 'NN'),\n",
       " ('years', 'NNS'),\n",
       " ('His', 'PRP$'),\n",
       " ('journey', 'NN'),\n",
       " ('Harvard', 'NNP'),\n",
       " ('dorm', 'NN'),\n",
       " ('room', 'NN'),\n",
       " ('leading', 'VBG'),\n",
       " ('one', 'CD'),\n",
       " ('world', 'NN'),\n",
       " ('influential', 'JJ'),\n",
       " ('tech', 'NN'),\n",
       " ('companies', 'NNS'),\n",
       " ('story', 'NN'),\n",
       " ('innovation', 'NN'),\n",
       " ('resilience', 'NN'),\n",
       " ('relentless', 'NN'),\n",
       " ('pursuit', 'NN'),\n",
       " ('connecting', 'VBG'),\n",
       " ('people', 'NNS'),\n",
       " ('In', 'IN'),\n",
       " ('2004', 'CD'),\n",
       " ('Mark', 'NNP'),\n",
       " ('Zuckerberg', 'NNP'),\n",
       " ('along', 'IN'),\n",
       " ('college', 'NN'),\n",
       " ('roommates', 'NNS'),\n",
       " ('Eduardo', 'NNP'),\n",
       " ('Saverin', 'NNP'),\n",
       " ('Andrew', 'NNP'),\n",
       " ('McCollum', 'NNP'),\n",
       " ('Dustin', 'NNP'),\n",
       " ('Moskovitz', 'NNP'),\n",
       " ('Chris', 'NNP'),\n",
       " ('Hughes', 'NNP'),\n",
       " ('launched', 'VBD'),\n",
       " ('The', 'DT'),\n",
       " ('Facebook', 'NNP'),\n",
       " ('dormitory', 'NN'),\n",
       " ('Harvard', 'NNP'),\n",
       " ('University', 'NNP'),\n",
       " ('Originally', 'NNP'),\n",
       " ('designed', 'VBN'),\n",
       " ('social', 'JJ'),\n",
       " ('networking', 'NN'),\n",
       " ('site', 'NN'),\n",
       " ('college', 'NN'),\n",
       " ('students', 'NNS'),\n",
       " ('quickly', 'RB'),\n",
       " ('expanded', 'VBD'),\n",
       " ('universities', 'NNS'),\n",
       " ('eventually', 'RB'),\n",
       " ('general', 'JJ'),\n",
       " ('public', 'IN'),\n",
       " ('The', 'DT'),\n",
       " ('platform', 'NN'),\n",
       " ('rapid', 'JJ'),\n",
       " ('growth', 'NN'),\n",
       " ('caught', 'VBD'),\n",
       " ('attention', 'NN'),\n",
       " ('investors', 'NNS'),\n",
       " ('2005', 'CD'),\n",
       " ('Facebook', 'NNP'),\n",
       " ('received', 'VBD'),\n",
       " ('first', 'RB'),\n",
       " ('major', 'JJ'),\n",
       " ('funding', 'VBG'),\n",
       " ('Accel', 'NNP'),\n",
       " ('Partners', 'NNPS'),\n",
       " ('marking', 'VBG'),\n",
       " ('beginning', 'VBG'),\n",
       " ('transformation', 'NN'),\n",
       " ('global', 'JJ'),\n",
       " ('phenomenon', 'NN')]"
      ]
     },
     "execution_count": 29,
     "metadata": {},
     "output_type": "execute_result"
    }
   ],
   "source": [
    "# tag each word with part of speech\n",
    "pos_tag(words)"
   ]
  },
  {
   "cell_type": "raw",
   "id": "f9ac107d-d80e-46ab-92cb-3cd1df6f1d15",
   "metadata": {},
   "source": [
    "\"\"\"\n",
    "POS DICTIONARY\n",
    "\n",
    "CC: It is the conjunction of coordinating\n",
    "CD: It is a digit of cardinal\n",
    "DT: It is the determiner\n",
    "EX: Existential\n",
    "FW: It is a foreign word\n",
    "IN: Preposition and conjunction\n",
    "JJ: Adjective\n",
    "JJR and JJS: Adjective and superlative\n",
    "LS: List marker\n",
    "MD: Modal\n",
    "NN: Singular noun\n",
    "NNS, NNP, NNPS: Proper and plural noun\n",
    "PDT: Predeterminer\n",
    "WRB: Adverb of wh\n",
    "WP$: Possessive wh\n",
    "WP: Pronoun of wh\n",
    "WDT: Determiner of wp\n",
    "VBZ: Verb\n",
    "VBP, VBN, VBG, VBD, VB: Forms of verbs\n",
    "UH: Interjection\n",
    "TO: To go\n",
    "RP: Particle\n",
    "RBS, RB, RBR: Adverb\n",
    "PRP, PRP$: Pronoun personal and professional\n",
    "\n",
    "\"\"\""
   ]
  },
  {
   "cell_type": "markdown",
   "id": "1f62c026-f02d-4797-8b10-bee0a293aa37",
   "metadata": {},
   "source": [
    "## NAME ENTITY RECORGNITION"
   ]
  },
  {
   "cell_type": "code",
   "execution_count": 33,
   "id": "d9c103d2-9218-451c-8f4d-e1df2bab4197",
   "metadata": {},
   "outputs": [
    {
     "name": "stderr",
     "output_type": "stream",
     "text": [
      "[nltk_data] Downloading package words to\n",
      "[nltk_data]     C:\\Users\\tbigg\\AppData\\Roaming\\nltk_data...\n",
      "[nltk_data]   Unzipping corpora\\words.zip.\n"
     ]
    },
    {
     "data": {
      "text/plain": [
       "True"
      ]
     },
     "execution_count": 33,
     "metadata": {},
     "output_type": "execute_result"
    }
   ],
   "source": [
    "from nltk import ne_chunk\n",
    "nltk.download('words')"
   ]
  },
  {
   "cell_type": "code",
   "execution_count": 35,
   "id": "40abb176-98db-447c-8b2c-84e0f320892b",
   "metadata": {},
   "outputs": [
    {
     "name": "stdout",
     "output_type": "stream",
     "text": [
      "(S\n",
      "  (PERSON Mark/NNP)\n",
      "  Zuckerberg/NNP\n",
      "  the/DT\n",
      "  co/NN\n",
      "  founder/NN\n",
      "  and/CC\n",
      "  (ORGANIZATION CEO/NNP)\n",
      "  of/IN\n",
      "  (GPE Facebook/NNP)\n",
      "  has/VBZ\n",
      "  become/VBN\n",
      "  a/DT\n",
      "  household/NN\n",
      "  name/NN\n",
      "  over/IN\n",
      "  the/DT\n",
      "  years/NNS\n",
      "  His/PRP$\n",
      "  journey/NN\n",
      "  from/IN\n",
      "  a/DT\n",
      "  (ORGANIZATION Harvard/NNP)\n",
      "  dorm/NN\n",
      "  room/NN\n",
      "  to/TO\n",
      "  leading/VBG\n",
      "  one/CD\n",
      "  of/IN\n",
      "  the/DT\n",
      "  world/NN\n",
      "  s/VBZ\n",
      "  most/RBS\n",
      "  influential/JJ\n",
      "  tech/NN\n",
      "  companies/NNS\n",
      "  is/VBZ\n",
      "  a/DT\n",
      "  story/NN\n",
      "  of/IN\n",
      "  innovation/NN\n",
      "  resilience/NN\n",
      "  and/CC\n",
      "  a/DT\n",
      "  relentless/JJ\n",
      "  pursuit/NN\n",
      "  of/IN\n",
      "  connecting/VBG\n",
      "  people/NNS\n",
      "  In/IN\n",
      "  2004/CD\n",
      "  (PERSON Mark/NNP Zuckerberg/NNP)\n",
      "  along/IN\n",
      "  with/IN\n",
      "  his/PRP$\n",
      "  college/NN\n",
      "  roommates/NNS\n",
      "  (PERSON Eduardo/NNP Saverin/NNP)\n",
      "  (PERSON Andrew/NNP McCollum/NNP Dustin/NNP Moskovitz/NNP)\n",
      "  and/CC\n",
      "  (PERSON Chris/NNP Hughes/NNP)\n",
      "  launched/VBD\n",
      "  The/DT\n",
      "  Facebook/NNP\n",
      "  from/IN\n",
      "  their/PRP$\n",
      "  dormitory/NN\n",
      "  at/IN\n",
      "  (ORGANIZATION Harvard/NNP University/NNP Originally/RB)\n",
      "  designed/VBD\n",
      "  as/IN\n",
      "  a/DT\n",
      "  social/JJ\n",
      "  networking/NN\n",
      "  site/NN\n",
      "  for/IN\n",
      "  college/NN\n",
      "  students/NNS\n",
      "  it/PRP\n",
      "  quickly/RB\n",
      "  expanded/VBD\n",
      "  to/TO\n",
      "  other/JJ\n",
      "  universities/NNS\n",
      "  and/CC\n",
      "  eventually/RB\n",
      "  to/TO\n",
      "  the/DT\n",
      "  general/JJ\n",
      "  public/JJ\n",
      "  The/DT\n",
      "  platform/NN\n",
      "  s/NN\n",
      "  rapid/JJ\n",
      "  growth/NN\n",
      "  caught/VBD\n",
      "  the/DT\n",
      "  attention/NN\n",
      "  of/IN\n",
      "  investors/NNS\n",
      "  and/CC\n",
      "  in/IN\n",
      "  2005/CD\n",
      "  Facebook/NNP\n",
      "  received/VBD\n",
      "  its/PRP$\n",
      "  first/JJ\n",
      "  major/JJ\n",
      "  funding/NN\n",
      "  from/IN\n",
      "  (ORGANIZATION Accel/NNP Partners/NNPS)\n",
      "  marking/VBG\n",
      "  the/DT\n",
      "  beginning/NN\n",
      "  of/IN\n",
      "  its/PRP$\n",
      "  transformation/NN\n",
      "  into/IN\n",
      "  a/DT\n",
      "  global/JJ\n",
      "  phenomenon/NN)\n"
     ]
    }
   ],
   "source": [
    "ner_tree = ne_chunk(pos_tag(word_tokenize(text)))\n",
    "print(ner_tree)"
   ]
  },
  {
   "cell_type": "code",
   "execution_count": null,
   "id": "46977c52-30ae-4069-8db9-58a2be7bf4a3",
   "metadata": {},
   "outputs": [],
   "source": []
  }
 ],
 "metadata": {
  "kernelspec": {
   "display_name": "Python 3 (ipykernel)",
   "language": "python",
   "name": "python3"
  },
  "language_info": {
   "codemirror_mode": {
    "name": "ipython",
    "version": 3
   },
   "file_extension": ".py",
   "mimetype": "text/x-python",
   "name": "python",
   "nbconvert_exporter": "python",
   "pygments_lexer": "ipython3",
   "version": "3.11.5"
  }
 },
 "nbformat": 4,
 "nbformat_minor": 5
}
